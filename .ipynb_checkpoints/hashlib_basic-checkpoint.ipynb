{
 "cells": [
  {
   "cell_type": "code",
   "execution_count": 1,
   "metadata": {},
   "outputs": [],
   "source": [
    "import hashlib\n",
    "\n",
    "def test_set_check(identifier, test_ratio, hash):\n",
    "    return hash(np.int64(identifier)).digest()[-1] < 256 * test_ratio\n",
    "\n",
    "def split_train_test_by_id(data, test_ratio, id_column, hash = hashlib.md5):\n",
    "    ids = data[id_column]\n",
    "    in_test_set = ids.apply(lambda id_: test_set_check(id_,test_ratio, hash))\n",
    "    return data.loc[~in_test_set], data.loc[in_test_set]"
   ]
  },
  {
   "cell_type": "markdown",
   "metadata": {},
   "source": [
    "### hashlib library를 이용해 원하는 형태를 해쉬화 시키는 과정\n",
    "\n",
    "#### 예문에서 위 함수들을 사용ㅎ라때는,다음과 같이 사용했다. \n",
    "\n",
    "train_set, test_set = split_train_test_by_id(housing_with_id == pd.DataFrame, 0.2 == ratio of test set, \"index\" == housing_with_id에 index 칼럼이 있으므로 그를 지정하기 위한 변수로 들어감) \n",
    "그러므로 실행 순서는 split_train_test_by_id를 따라서 흘러가며 그 중간에 test_set_check를 호출하는 형식으로 진행된다.\n",
    "\n",
    "test_set_check : ( identifier = 해쉬를 진행할 feature의 value, test_ratio는 우리가 설정 하고 싶은 비율, hash : hash로 사용할 함수) \n",
    "\n",
    "이때 hash가 순전히 햇갈릴수 있는 이유는 뒤의 연속된 함수에서 hash = hashlib.md5로 지정하여서 넘겨주기 때문에, 전체적인 함수 흐름을 보면서 해석해야 하는 부분에서 발생!! \n",
    "\n",
    "\n",
    "split_train_test_by_id 함수에서 \n",
    "이 예문에서, data는 pd.DataFrame으로 들어오고, id_column이 칼럼명으로 주어지기 때문에, \n",
    "이후 lambda 함수를 통해 들어가는 test_set_check() 에서의 id_ == identifier == (type)int 가 되고(.apply()의 영향으로 인해), test_ratio는 split_train_test_by_id를 호출할때 넣은 값. hash는 hashlib.md5의 형태가 된다.\n",
    "\n",
    "즉 전체 알고리즘의 핵심은 hashlib.md5() 함수이다. \n",
    "hashlib.md5() 라는 함수에 특정 숫자가 들어가게 되면 그 숫자를 헤쉬를 진행하게 된다. \n",
    "이때 .digest() 명령으로 우리는 hash된 값을 8비트 숫자 16개로 구성된 행렬로 전환시킬수 있게된다. \n",
    "그중 가장 끝자리에 있는 숫자를 받아들여서 그것이 256*ratio보다 큰지 작은지를 판단하겠다는 함수이다. \n",
    "(이때 int64로 변환한 숫자를 사용하는 것은 int32, int16등 각기 다른 비트로 저장된 같은수( ex '1' 은 서로 다른 수로 해쉬 되기 때문.\n",
    "각 컴퓨터 마다 혹은 설정에 따라 DataFrame안의 int가 저장되는 방식이 달라질수 있으므로 그를 통일해 주는 과정을 거치는 것이다.) \n",
    "\n",
    "한마디로 숫자를 256개의 랜덤 숫자로 변화시켜주는 과정을 해쉬함수인 md5로 진행하였다는 말.(계산이 빨라서? 균일하게 잘 나와서? 여하튼)\n",
    "그것을 비율보다 작은지 큰지를 판단하는 함수를 통해 TRUE,FAlSE를 구분하여 random하게 테스트 셋을 만드는 과정을 거치면서도 후에 업데이트 하여서 데이터를 쌓았을때도 유효하게 같은 테스트 세트를 뽑을수 있도록 제작한 것이다. \n",
    "\n"
   ]
  },
  {
   "cell_type": "code",
   "execution_count": null,
   "metadata": {},
   "outputs": [],
   "source": []
  }
 ],
 "metadata": {
  "kernelspec": {
   "display_name": "Python 3",
   "language": "python",
   "name": "python3"
  },
  "language_info": {
   "codemirror_mode": {
    "name": "ipython",
    "version": 3
   },
   "file_extension": ".py",
   "mimetype": "text/x-python",
   "name": "python",
   "nbconvert_exporter": "python",
   "pygments_lexer": "ipython3",
   "version": "3.6.4"
  }
 },
 "nbformat": 4,
 "nbformat_minor": 2
}
